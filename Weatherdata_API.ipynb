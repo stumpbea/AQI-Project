{
 "cells": [
  {
   "attachments": {},
   "cell_type": "markdown",
   "metadata": {},
   "source": [
    "# Import historical Weather Data from visualcrossing API"
   ]
  },
  {
   "attachments": {},
   "cell_type": "markdown",
   "metadata": {},
   "source": [
    "## Imports & Generische Konfig"
   ]
  },
  {
   "cell_type": "code",
   "execution_count": 4,
   "metadata": {},
   "outputs": [],
   "source": [
    "#Variables\n",
    "import config\n",
    "\n",
    "#Libraries\n",
    "import csv\n",
    "import codecs\n",
    "import urllib.request\n",
    "import urllib.error\n",
    "import sys"
   ]
  },
  {
   "attachments": {},
   "cell_type": "markdown",
   "metadata": {},
   "source": [
    "## URL spezifizieren"
   ]
  },
  {
   "cell_type": "code",
   "execution_count": 5,
   "metadata": {},
   "outputs": [],
   "source": [
    "BaseURL = 'https://weather.visualcrossing.com/VisualCrossingWebServices/rest/services/timeline/'\n",
    "\n",
    "#Key modified to NOT cause accidential costs\n",
    "ApiKey='XB2AJ7B74CP7PS8RWU3HY8WMEBB'\n",
    "#UnitGroup sets the units of the output - us or metric\n",
    "UnitGroup='metric'\n",
    "\n",
    "#Location for the weather data\n",
    "Location='47.39,8.54'\n",
    "\n",
    "#Optional start and end dates\n",
    "#If nothing is specified, the forecast is retrieved. \n",
    "#If start date only is specified, a single historical or forecast day will be retrieved\n",
    "#If both start and and end date are specified, a date range will be retrieved\n",
    "StartDate = '2001-01-01'\n",
    "EndDate='2023-05-01'\n",
    "\n",
    "#JSON or CSV \n",
    "#JSON format supports daily, hourly, current conditions, weather alerts and events in a single JSON package\n",
    "#CSV format requires an 'include' parameter below to indicate which table section is required\n",
    "ContentType=\"csv\"\n",
    "\n",
    "#include sections\n",
    "#values include days,hours,current,alerts\n",
    "Include=\"days\""
   ]
  },
  {
   "attachments": {},
   "cell_type": "markdown",
   "metadata": {},
   "source": [
    "## API Download"
   ]
  },
  {
   "cell_type": "code",
   "execution_count": 6,
   "metadata": {},
   "outputs": [
    {
     "name": "stdout",
     "output_type": "stream",
     "text": [
      " - Running query URL:  https://weather.visualcrossing.com/VisualCrossingWebServices/rest/services/timeline/47.39,8.54/2001-01-01/2023-05-01?&unitGroup=metric&contentType=csv&include=days&key=XB2AJ7B74CP7PS8RWU3HY8WME\n",
      "\n"
     ]
    }
   ],
   "source": [
    "#basic query including location\n",
    "ApiQuery=BaseURL + Location\n",
    "\n",
    "#append the start and end date if present\n",
    "if (len(StartDate)):\n",
    "    ApiQuery+=\"/\"+StartDate\n",
    "    if (len(EndDate)):\n",
    "        ApiQuery+=\"/\"+EndDate\n",
    "\n",
    "#Url is completed. Now add query parameters (could be passed as GET or POST)\n",
    "ApiQuery+=\"?\"\n",
    "\n",
    "#append each parameter as necessary\n",
    "if (len(UnitGroup)):\n",
    "    ApiQuery+=\"&unitGroup=\"+UnitGroup\n",
    "\n",
    "if (len(ContentType)):\n",
    "    ApiQuery+=\"&contentType=\"+ContentType\n",
    "\n",
    "if (len(Include)):\n",
    "    ApiQuery+=\"&include=\"+Include\n",
    "\n",
    "ApiQuery+=\"&key=\"+ApiKey\n",
    "\n",
    "print(' - Running query URL: ', ApiQuery)\n",
    "print()\n",
    "\n",
    "try: \n",
    "    CSVBytes = urllib.request.urlopen(ApiQuery)\n",
    "except urllib.error.HTTPError  as e:\n",
    "    ErrorInfo= e.read().decode() \n",
    "    print('Error code: ', e.code, ErrorInfo)\n",
    "    sys.exit()\n",
    "except  urllib.error.URLError as e:\n",
    "    ErrorInfo= e.read().decode() \n",
    "    print('Error code: ', e.code,ErrorInfo)\n",
    "    sys.exit()\n",
    "    \n",
    "# Parse the results as CSV, change lon/lat to string and write to file\n",
    "CSVText = csv.reader(codecs.iterdecode(CSVBytes, 'utf-8'))\n"
   ]
  },
  {
   "attachments": {},
   "cell_type": "markdown",
   "metadata": {},
   "source": [
    "# Modify Data and write to csv-file"
   ]
  },
  {
   "cell_type": "code",
   "execution_count": 7,
   "metadata": {},
   "outputs": [],
   "source": [
    "modified_data = []\n",
    "for row in CSVText:\n",
    "    if row[0] == \"47.39,8.54\":\n",
    "        # Ersetzen Sie den Standortwert durch \"Zch_Stampfenbachstrasse\"\n",
    "        row[0] = \"Zch_Stampfenbachstrasse\"\n",
    "    \n",
    "    # Fügen Sie die Zeile zur modifizierten Datenliste hinzu\n",
    "    modified_data.append(row)\n",
    "\n",
    "with open(config.csv_weatherhistory, 'w', newline='', encoding='utf-8') as csvfile:\n",
    "    writer = csv.writer(csvfile)\n",
    "    writer.writerows(modified_data)\n",
    "\n"
   ]
  }
 ],
 "metadata": {
  "kernelspec": {
   "display_name": "ADSenv",
   "language": "python",
   "name": "python3"
  },
  "language_info": {
   "codemirror_mode": {
    "name": "ipython",
    "version": 3
   },
   "file_extension": ".py",
   "mimetype": "text/x-python",
   "name": "python",
   "nbconvert_exporter": "python",
   "pygments_lexer": "ipython3",
   "version": "3.10.9"
  },
  "orig_nbformat": 4
 },
 "nbformat": 4,
 "nbformat_minor": 2
}
