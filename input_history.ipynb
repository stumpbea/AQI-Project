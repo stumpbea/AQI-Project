{
 "cells": [
  {
   "attachments": {},
   "cell_type": "markdown",
   "metadata": {},
   "source": [
    "# Alle notwendigen Inputdaten einlesen"
   ]
  },
  {
   "attachments": {},
   "cell_type": "markdown",
   "metadata": {},
   "source": [
    "## Imports & Generische Konfig"
   ]
  },
  {
   "cell_type": "code",
   "execution_count": 4,
   "metadata": {},
   "outputs": [],
   "source": [
    "#Variables\n",
    "import config\n",
    "\n",
    "#Preprocessing\n",
    "import preprocessing_functions as pf\n",
    "\n",
    "#Libraries\n",
    "import requests\n",
    "import pandas as pd\n",
    "import glob\n",
    "from bs4 import BeautifulSoup\n",
    "\n",
    "#Verbindung zur DB aufbauen mit preprocessing function\n",
    "pf.db_connect(config.db_name)\n"
   ]
  },
  {
   "attachments": {},
   "cell_type": "markdown",
   "metadata": {},
   "source": [
    "## Historische Feinstaub Daten (ZH) auslesen"
   ]
  },
  {
   "cell_type": "code",
   "execution_count": 5,
   "metadata": {},
   "outputs": [
    {
     "data": {
      "text/plain": [
       "171"
      ]
     },
     "execution_count": 5,
     "metadata": {},
     "output_type": "execute_result"
    }
   ],
   "source": [
    "url = 'https://data.stadt-zuerich.ch/dataset/ugz_luftschadstoffmessung_tageswerte'\n",
    "\n",
    "# Verbindung zur Webseite herstellen\n",
    "response = requests.get(url)\n",
    "\n",
    "# Webseite parsen\n",
    "soup = BeautifulSoup(response.text, 'html.parser')\n",
    "\n",
    "# Alle CSV-Links finden\n",
    "csv_links = []\n",
    "for a in soup.find_all('a', href=True):\n",
    "    link = a['href']\n",
    "    if 'ugz_ogd_air_d1_2' in link and link.endswith('.csv'):\n",
    "        csv_links.append(link)\n",
    "\n",
    "# CSV-Dateien herunterladen\n",
    "for link in csv_links:\n",
    "    response = requests.get(link)\n",
    "    with open('csv-files/'+link.split('/')[-1], 'wb') as f:\n",
    "        f.write(response.content)\n",
    "\n",
    "# Liste aller ugz CSV-Dateien im Verzeichnis csv-files\n",
    "csv_files = glob.glob('csv-files/ugz*.csv')\n",
    "\n",
    "# Leeres DataFrame zum Speichern der gefilterten Daten erstellen\n",
    "AQI_history_ZH = pd.DataFrame()\n",
    "    \n",
    "# Durch alle CSV-Dateien iterieren und Daten filtern\n",
    "for file in csv_files:\n",
    "    df = pd.read_csv(file)\n",
    "    df_filtered = df[df['Parameter'] == 'PM10']\n",
    "    df_filtered = df_filtered[df_filtered['Standort'] == 'Zch_Stampfenbachstrasse']\n",
    "    df_filtered['Datum'] = df_filtered['Datum'].apply(pf.format_timestamp)\n",
    "    AQI_history_ZH = pd.concat([AQI_history_ZH, df_filtered])\n",
    "\n",
    "# Index neu setzen\n",
    "AQI_history_ZH.reset_index(drop=True, inplace=True)\n",
    "\n",
    "# Dataframe in die DB schreiben\n",
    "AQI_history_ZH.to_sql(config.db_AQI_history, config.db_login, if_exists='append', index=False)\n"
   ]
  },
  {
   "attachments": {},
   "cell_type": "markdown",
   "metadata": {},
   "source": [
    "## Historische Wetterdaten (ZH) aus csv einlesen"
   ]
  },
  {
   "cell_type": "code",
   "execution_count": 6,
   "metadata": {},
   "outputs": [],
   "source": [
    "# CSV-File ins Dataframe einlesen\n",
    "weather_history_ZH = pd.read_csv(config.csv_weatherhistory)\n",
    "\n",
    "weather_history_ZH['datetime'] = weather_history_ZH['datetime'].apply(pf.format_timestamp)\n",
    "\n",
    "\n",
    "# Index neu setzen\n",
    "weather_history_ZH.reset_index(drop=True, inplace=True)\n",
    "\n",
    "\n"
   ]
  },
  {
   "attachments": {},
   "cell_type": "markdown",
   "metadata": {},
   "source": [
    "## Anreicherung der Daten"
   ]
  },
  {
   "cell_type": "code",
   "execution_count": 7,
   "metadata": {},
   "outputs": [
    {
     "data": {
      "text/plain": [
       "376"
      ]
     },
     "execution_count": 7,
     "metadata": {},
     "output_type": "execute_result"
    }
   ],
   "source": [
    "# Simple-Moving-Average (7, 14, 30 Tage Temperatur)\n",
    "window_sizes_temp = [7, 14, 30]\n",
    "\n",
    "for window_size_temp in window_sizes_temp:\n",
    "    column_name = f\"SMA_temp{window_size_temp}\"\n",
    "    weather_history_ZH[column_name] = weather_history_ZH['temp'].rolling(window=window_size_temp).mean()\n",
    "\n",
    "# Simple-Moving-Average (7, 14, 30 Tage Luftfeuchtigkeit)\n",
    "window_sizes_hum = [7, 14, 30]\n",
    "\n",
    "for window_size_hum in window_sizes_hum:\n",
    "    column_name = f\"SMA_humidity{window_size_hum}\"\n",
    "    weather_history_ZH[column_name] = weather_history_ZH['humidity'].rolling(window=window_size_hum).mean()\n",
    "\n",
    "# Temperatur Range\n",
    "weather_history_ZH['Temp_Range'] = weather_history_ZH['tempmax'] - weather_history_ZH['tempmin']\n",
    "\n",
    "# Jahreszeit \n",
    "weather_history_ZH['Season'] = (weather_history_ZH['datetime'].apply(lambda x: int(x.split('.')[1]))%12 + 3)//3\n",
    "seasons = {1: 'Winter', 2: 'Frühling', 3: 'Sommer', 4: 'Herbst'}\n",
    "weather_history_ZH['Season'] = weather_history_ZH['Season'].map(seasons)\n",
    "\n",
    "# Wetterkonditionen\n",
    "def weather_type(condition):\n",
    "    if 'cloudy' in condition.lower():\n",
    "        return 'Cloudy'\n",
    "    elif 'rain' in condition.lower():\n",
    "        return 'Rainy'\n",
    "    elif 'snow' in condition.lower():\n",
    "        return 'Snowy'\n",
    "    else:\n",
    "        return 'Clear'\n",
    "\n",
    "weather_history_ZH['Weather_Type'] = weather_history_ZH['conditions'].apply(weather_type)\n",
    "\n",
    "# Dataframe in die DB schreiben\n",
    "weather_history_ZH.to_sql(config.db_weather_history, config.db_login, if_exists='replace', index=False)"
   ]
  }
 ],
 "metadata": {
  "kernelspec": {
   "display_name": "base",
   "language": "python",
   "name": "python3"
  },
  "language_info": {
   "codemirror_mode": {
    "name": "ipython",
    "version": 3
   },
   "file_extension": ".py",
   "mimetype": "text/x-python",
   "name": "python",
   "nbconvert_exporter": "python",
   "pygments_lexer": "ipython3",
   "version": "3.10.9"
  },
  "orig_nbformat": 4
 },
 "nbformat": 4,
 "nbformat_minor": 2
}
