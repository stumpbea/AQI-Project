{
 "cells": [
  {
   "attachments": {},
   "cell_type": "markdown",
   "metadata": {},
   "source": [
    "1. Laden von Daten und Bibliotheken"
   ]
  },
  {
   "cell_type": "code",
   "execution_count": null,
   "metadata": {},
   "outputs": [],
   "source": [
    "import pandas as pd\n",
    "import matplotlib.pyplot as plt\n",
    "import seaborn as sns\n",
    "\n",
    "# Daten laden\n",
    "data = pd.read_csv('data.csv')"
   ]
  },
  {
   "attachments": {},
   "cell_type": "markdown",
   "metadata": {},
   "source": [
    "2. Überblick über die Daten"
   ]
  },
  {
   "cell_type": "code",
   "execution_count": null,
   "metadata": {},
   "outputs": [],
   "source": [
    "# Ersten fünf Zeilen der Daten anzeigen\n",
    "print(data.head())\n",
    "\n",
    "# Datenform und Datentypen anzeigen\n",
    "print(data.info())\n",
    "\n",
    "# Statistische Zusammenfassung anzeigen\n",
    "print(data.describe())"
   ]
  },
  {
   "attachments": {},
   "cell_type": "markdown",
   "metadata": {},
   "source": [
    "3. Visualisierung von Daten"
   ]
  },
  {
   "cell_type": "code",
   "execution_count": null,
   "metadata": {},
   "outputs": [],
   "source": [
    "# Histogramm\n",
    "plt.hist(data['column_name'])\n",
    "plt.show()\n",
    "\n",
    "# Boxplot\n",
    "sns.boxplot(data['column_name'])\n",
    "plt.show()\n",
    "\n",
    "# Scatterplot\n",
    "plt.scatter(data['column_name_1'], data['column_name_2'])\n",
    "plt.show()\n",
    "\n",
    "# Korrelationsmatrix\n",
    "sns.heatmap(corr_matrix, annot=True, cmap='coolwarm')"
   ]
  }
 ],
 "metadata": {
  "language_info": {
   "name": "python"
  },
  "orig_nbformat": 4
 },
 "nbformat": 4,
 "nbformat_minor": 2
}
