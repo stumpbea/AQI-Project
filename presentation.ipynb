{
 "cells": [
  {
   "cell_type": "code",
   "execution_count": 1,
   "metadata": {},
   "outputs": [
    {
     "name": "stdout",
     "output_type": "stream",
     "text": [
      " * Serving Flask app '__main__'\n",
      " * Debug mode: off\n"
     ]
    },
    {
     "name": "stderr",
     "output_type": "stream",
     "text": [
      "WARNING: This is a development server. Do not use it in a production deployment. Use a production WSGI server instead.\n",
      " * Running on all addresses (0.0.0.0)\n",
      " * Running on http://127.0.0.1:8080\n",
      " * Running on http://192.168.1.123:8080\n",
      "Press CTRL+C to quit\n",
      "127.0.0.1 - - [18/May/2023 14:11:11] \"GET / HTTP/1.1\" 200 -\n",
      "127.0.0.1 - - [18/May/2023 14:11:11] \"GET /static/iris.png HTTP/1.1\" 404 -\n",
      "127.0.0.1 - - [18/May/2023 14:11:12] \"GET /favicon.ico HTTP/1.1\" 404 -\n",
      "127.0.0.1 - - [18/May/2023 14:12:12] \"POST / HTTP/1.1\" 200 -\n",
      "127.0.0.1 - - [18/May/2023 14:12:13] \"GET /static/iris.png HTTP/1.1\" 404 -\n",
      "127.0.0.1 - - [18/May/2023 14:12:16] \"POST / HTTP/1.1\" 200 -\n",
      "127.0.0.1 - - [18/May/2023 14:12:16] \"GET /static/iris.png HTTP/1.1\" 404 -\n"
     ]
    }
   ],
   "source": [
    "# Import the required libraries\n",
    "import joblib\n",
    "from flask import Flask\n",
    "from flask import request\n",
    "from flask import jsonify\n",
    "from flask import session\n",
    "from flask import url_for\n",
    "from flask import redirect\n",
    "from flask import render_template\n",
    "from AQI_form import AQIForm\n",
    "\n",
    "# Read the models\n",
    "#classifier_loaded = joblib.load(\"AQI_model.pkl\")\n",
    "\n",
    "# Prediction function\n",
    "def make_prediction(model, sample_json):\n",
    "    # parse input from request\n",
    "    PredictionDate = sample_json['PredictionDate']\n",
    "\n",
    "    # Predict\n",
    "    AQIprediction = model.predict(PredictionDate)\n",
    "\n",
    "    return AQIprediction[0]\n",
    "\n",
    "\n",
    "app = Flask(__name__)\n",
    "app.config['SECRET_KEY'] = 'mysecretkey'\n",
    "\n",
    "@app.route(\"/\", methods=['GET','POST'])\n",
    "def index():\n",
    "    form = AQIForm()\n",
    "\n",
    "    if form.validate_on_submit():\n",
    "        session['PredictionDate'] = form.PredictionDate.data\n",
    "        session['PredictionCity'] = form.PredictionCity.data\n",
    "\n",
    "        return redirect(url_for(\"prediction\"))\n",
    "        \n",
    "    return render_template(\"home.html\", form=form)\n",
    "\n",
    "@app.route('/prediction')\n",
    "def prediction():\n",
    "    content = {'PredictionDate': date(session['PredictionDate'])}\n",
    "\n",
    "    results = make_prediction(AQIModel, content)\n",
    "\n",
    "    return render_template('prediction.html', results=results)\n",
    "\n",
    "if __name__ == '__main__':\n",
    "    app.run(host='0.0.0.0', port=8080)\n"
   ]
  }
 ],
 "metadata": {
  "kernelspec": {
   "display_name": "ADSenv",
   "language": "python",
   "name": "python3"
  },
  "language_info": {
   "codemirror_mode": {
    "name": "ipython",
    "version": 3
   },
   "file_extension": ".py",
   "mimetype": "text/x-python",
   "name": "python",
   "nbconvert_exporter": "python",
   "pygments_lexer": "ipython3",
   "version": "3.10.9"
  },
  "orig_nbformat": 4
 },
 "nbformat": 4,
 "nbformat_minor": 2
}
