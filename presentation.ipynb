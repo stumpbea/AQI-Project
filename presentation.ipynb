{
 "cells": [
  {
   "cell_type": "code",
   "execution_count": 1,
   "metadata": {},
   "outputs": [
    {
     "name": "stdout",
     "output_type": "stream",
     "text": [
      " * Serving Flask app '__main__'\n",
      " * Debug mode: off\n"
     ]
    },
    {
     "name": "stderr",
     "output_type": "stream",
     "text": [
      "WARNING: This is a development server. Do not use it in a production deployment. Use a production WSGI server instead.\n",
      " * Running on all addresses (0.0.0.0)\n",
      " * Running on http://127.0.0.1:8080\n",
      " * Running on http://192.168.1.123:8080\n",
      "Press CTRL+C to quit\n",
      "127.0.0.1 - - [23/May/2023 09:00:27] \"GET / HTTP/1.1\" 200 -\n",
      "127.0.0.1 - - [23/May/2023 09:00:31] \"POST / HTTP/1.1\" 302 -\n"
     ]
    },
    {
     "name": "stdout",
     "output_type": "stream",
     "text": [
      " - Running query URL:  https://weather.visualcrossing.com/VisualCrossingWebServices/rest/services/timeline/47.39,8.54/2023-05-25/2023-05-25?&unitGroup=metric&contentType=csv&include=days&key=XB2AJ7B74CP7PS8RWU3HY8WME\n",
      "\n"
     ]
    },
    {
     "name": "stderr",
     "output_type": "stream",
     "text": [
      "127.0.0.1 - - [23/May/2023 09:00:31] \"GET /prediction HTTP/1.1\" 200 -\n",
      "127.0.0.1 - - [23/May/2023 09:00:44] \"GET / HTTP/1.1\" 200 -\n",
      "127.0.0.1 - - [23/May/2023 09:00:52] \"POST / HTTP/1.1\" 302 -\n"
     ]
    },
    {
     "name": "stdout",
     "output_type": "stream",
     "text": [
      " - Running query URL:  https://weather.visualcrossing.com/VisualCrossingWebServices/rest/services/timeline/Berlin/2023-05-25/2023-05-25?&unitGroup=metric&contentType=csv&include=days&key=XB2AJ7B74CP7PS8RWU3HY8WME\n",
      "\n"
     ]
    },
    {
     "name": "stderr",
     "output_type": "stream",
     "text": [
      "127.0.0.1 - - [23/May/2023 09:00:53] \"GET /prediction HTTP/1.1\" 200 -\n",
      "127.0.0.1 - - [23/May/2023 09:00:59] \"GET / HTTP/1.1\" 200 -\n",
      "127.0.0.1 - - [23/May/2023 09:01:30] \"POST / HTTP/1.1\" 302 -\n",
      "[2023-05-23 09:01:30,961] ERROR in app: Exception on /prediction [GET]\n",
      "Traceback (most recent call last):\n",
      "  File \"c:\\Users\\stump\\anaconda3\\envs\\ADSenv\\lib\\site-packages\\flask\\app.py\", line 2528, in wsgi_app\n",
      "    response = self.full_dispatch_request()\n",
      "  File \"c:\\Users\\stump\\anaconda3\\envs\\ADSenv\\lib\\site-packages\\flask\\app.py\", line 1825, in full_dispatch_request\n",
      "    rv = self.handle_user_exception(e)\n",
      "  File \"c:\\Users\\stump\\anaconda3\\envs\\ADSenv\\lib\\site-packages\\flask\\app.py\", line 1823, in full_dispatch_request\n",
      "    rv = self.dispatch_request()\n",
      "  File \"c:\\Users\\stump\\anaconda3\\envs\\ADSenv\\lib\\site-packages\\flask\\app.py\", line 1799, in dispatch_request\n",
      "    return self.ensure_sync(self.view_functions[rule.endpoint])(**view_args)\n",
      "  File \"C:\\Users\\stump\\AppData\\Local\\Temp\\ipykernel_40928\\1233214948.py\", line 65, in prediction\n",
      "    results = make_prediction(AQIModel, content)\n",
      "  File \"C:\\Users\\stump\\AppData\\Local\\Temp\\ipykernel_40928\\1233214948.py\", line 27, in make_prediction\n",
      "    input.model_weather_data(PredictionDate, PredictionCity)\n",
      "  File \"c:\\Users\\stump\\OneDrive - ZHAW\\ADS\\AQI\\AQI-Project-1\\input.py\", line 72, in model_weather_data\n",
      "    CSVBytes = urllib.request.urlopen(ApiQuery)\n",
      "  File \"c:\\Users\\stump\\anaconda3\\envs\\ADSenv\\lib\\urllib\\request.py\", line 216, in urlopen\n",
      "    return opener.open(url, data, timeout)\n",
      "  File \"c:\\Users\\stump\\anaconda3\\envs\\ADSenv\\lib\\urllib\\request.py\", line 519, in open\n",
      "    response = self._open(req, data)\n",
      "  File \"c:\\Users\\stump\\anaconda3\\envs\\ADSenv\\lib\\urllib\\request.py\", line 536, in _open\n",
      "    result = self._call_chain(self.handle_open, protocol, protocol +\n",
      "  File \"c:\\Users\\stump\\anaconda3\\envs\\ADSenv\\lib\\urllib\\request.py\", line 496, in _call_chain\n",
      "    result = func(*args)\n",
      "  File \"c:\\Users\\stump\\anaconda3\\envs\\ADSenv\\lib\\urllib\\request.py\", line 1391, in https_open\n",
      "    return self.do_open(http.client.HTTPSConnection, req,\n",
      "  File \"c:\\Users\\stump\\anaconda3\\envs\\ADSenv\\lib\\urllib\\request.py\", line 1348, in do_open\n",
      "    h.request(req.get_method(), req.selector, req.data, headers,\n",
      "  File \"c:\\Users\\stump\\anaconda3\\envs\\ADSenv\\lib\\http\\client.py\", line 1282, in request\n",
      "    self._send_request(method, url, body, headers, encode_chunked)\n",
      "  File \"c:\\Users\\stump\\anaconda3\\envs\\ADSenv\\lib\\http\\client.py\", line 1293, in _send_request\n",
      "    self.putrequest(method, url, **skips)\n",
      "  File \"c:\\Users\\stump\\anaconda3\\envs\\ADSenv\\lib\\http\\client.py\", line 1127, in putrequest\n",
      "    self._validate_path(url)\n",
      "  File \"c:\\Users\\stump\\anaconda3\\envs\\ADSenv\\lib\\http\\client.py\", line 1227, in _validate_path\n",
      "    raise InvalidURL(f\"URL can't contain control characters. {url!r} \"\n",
      "http.client.InvalidURL: URL can't contain control characters. '/VisualCrossingWebServices/rest/services/timeline/47.59, 8.95/2023-05-25/2023-05-25?&unitGroup=metric&contentType=csv&include=days&key=XB2AJ7B74CP7PS8RWU3HY8WME' (found at least ' ')\n",
      "127.0.0.1 - - [23/May/2023 09:01:30] \"GET /prediction HTTP/1.1\" 500 -\n"
     ]
    },
    {
     "name": "stdout",
     "output_type": "stream",
     "text": [
      " - Running query URL:  https://weather.visualcrossing.com/VisualCrossingWebServices/rest/services/timeline/47.59, 8.95/2023-05-25/2023-05-25?&unitGroup=metric&contentType=csv&include=days&key=XB2AJ7B74CP7PS8RWU3HY8WME\n",
      "\n"
     ]
    },
    {
     "name": "stderr",
     "output_type": "stream",
     "text": [
      "127.0.0.1 - - [23/May/2023 09:01:32] \"GET / HTTP/1.1\" 200 -\n",
      "127.0.0.1 - - [23/May/2023 09:01:35] \"POST / HTTP/1.1\" 302 -\n"
     ]
    },
    {
     "name": "stdout",
     "output_type": "stream",
     "text": [
      " - Running query URL:  https://weather.visualcrossing.com/VisualCrossingWebServices/rest/services/timeline/47.59,8.95/2023-05-25/2023-05-25?&unitGroup=metric&contentType=csv&include=days&key=XB2AJ7B74CP7PS8RWU3HY8WME\n",
      "\n"
     ]
    },
    {
     "name": "stderr",
     "output_type": "stream",
     "text": [
      "127.0.0.1 - - [23/May/2023 09:01:36] \"GET /prediction HTTP/1.1\" 200 -\n",
      "127.0.0.1 - - [23/May/2023 09:01:50] \"GET / HTTP/1.1\" 200 -\n",
      "127.0.0.1 - - [23/May/2023 09:01:59] \"POST / HTTP/1.1\" 302 -\n"
     ]
    },
    {
     "name": "stdout",
     "output_type": "stream",
     "text": [
      " - Running query URL:  https://weather.visualcrossing.com/VisualCrossingWebServices/rest/services/timeline/47.59,8.95/2023-05-30/2023-05-30?&unitGroup=metric&contentType=csv&include=days&key=XB2AJ7B74CP7PS8RWU3HY8WME\n",
      "\n"
     ]
    },
    {
     "name": "stderr",
     "output_type": "stream",
     "text": [
      "127.0.0.1 - - [23/May/2023 09:01:59] \"GET /prediction HTTP/1.1\" 200 -\n",
      "127.0.0.1 - - [23/May/2023 09:02:19] \"GET / HTTP/1.1\" 200 -\n"
     ]
    }
   ],
   "source": [
    "# Import the required libraries\n",
    "import joblib\n",
    "import config\n",
    "import input\n",
    "import preprocessing_functions as pf\n",
    "import pandas as pd\n",
    "import numpy as np\n",
    "from AQI_form import AQIForm\n",
    "from flask import Flask\n",
    "from flask import session\n",
    "from flask import url_for\n",
    "from flask import redirect\n",
    "from flask import render_template\n",
    "from AQI_form import AQIForm\n",
    "\n",
    "# Read the model\n",
    "AQIModel = joblib.load(\"Decision_Tree_AQI_Project.pkl\")\n",
    "\n",
    "# Prediction function\n",
    "def make_prediction(model, sample_json):\n",
    "    # parse input from request\n",
    "    PredictionDate = sample_json['PredictionDate']\n",
    "    PredictionCity = sample_json['PredictionCity']\n",
    "\n",
    "    PredictionDate = pf.form_format_date(PredictionDate)\n",
    "\n",
    "    input.model_weather_data(PredictionDate, PredictionCity)\n",
    "\n",
    "    # CSV-File ins Dataframe einlesen\n",
    "    df_weather = pd.read_csv(config.csv_temp_weather)\n",
    "    \n",
    "    ##Code zum extrahieren der Daten für das Model => precipprob, windgust, visibility\n",
    "    precipprob = df_weather['precipprob']\n",
    "    windgust = df_weather['windgust']\n",
    "    visibility = df_weather['visibility']    \n",
    "    \n",
    "    # Make an input vector\n",
    "    weather = np.array([precipprob, windgust, visibility]).T\n",
    "    \n",
    "    # Predict\n",
    "    PM10_prediction = float(model.predict(weather))\n",
    "\n",
    "    #return PM10_prediction\n",
    "    return PM10_prediction\n",
    "\n",
    "app = Flask(__name__)\n",
    "app.config['SECRET_KEY'] = 'mysecretkey'\n",
    "\n",
    "@app.route(\"/\", methods=['GET','POST'])\n",
    "def index():\n",
    "    form = AQIForm()\n",
    "\n",
    "    if form.validate_on_submit():\n",
    "        session['PredictionDate'] = form.PredictionDate.data\n",
    "        session['PredictionCity'] = form.PredictionCity.data\n",
    "\n",
    "        return redirect(url_for(\"prediction\"))\n",
    "        \n",
    "    return render_template(\"home.html\", form=form)\n",
    "\n",
    "@app.route('/prediction')\n",
    "def prediction():\n",
    "    content = {'PredictionDate': session['PredictionDate'],'PredictionCity': str(session['PredictionCity'])}\n",
    "\n",
    "    results = make_prediction(AQIModel, content)\n",
    "\n",
    "    return render_template('prediction.html', results=results)\n",
    "\n",
    "if __name__ == '__main__':\n",
    "    app.run(host='0.0.0.0', port=8080)\n"
   ]
  }
 ],
 "metadata": {
  "kernelspec": {
   "display_name": "ADSenv",
   "language": "python",
   "name": "python3"
  },
  "language_info": {
   "codemirror_mode": {
    "name": "ipython",
    "version": 3
   },
   "file_extension": ".py",
   "mimetype": "text/x-python",
   "name": "python",
   "nbconvert_exporter": "python",
   "pygments_lexer": "ipython3",
   "version": "3.10.9"
  },
  "orig_nbformat": 4
 },
 "nbformat": 4,
 "nbformat_minor": 2
}
