{
 "cells": [
  {
   "cell_type": "code",
   "execution_count": 1,
   "metadata": {},
   "outputs": [
    {
     "name": "stdout",
     "output_type": "stream",
     "text": [
      " * Serving Flask app '__main__'\n",
      " * Debug mode: off\n"
     ]
    },
    {
     "name": "stderr",
     "output_type": "stream",
     "text": [
      "WARNING: This is a development server. Do not use it in a production deployment. Use a production WSGI server instead.\n",
      " * Running on all addresses (0.0.0.0)\n",
      " * Running on http://127.0.0.1:8080\n",
      " * Running on http://192.168.1.123:8080\n",
      "Press CTRL+C to quit\n",
      "127.0.0.1 - - [21/May/2023 12:04:33] \"GET / HTTP/1.1\" 200 -\n",
      "127.0.0.1 - - [21/May/2023 12:04:38] \"POST / HTTP/1.1\" 302 -\n"
     ]
    },
    {
     "name": "stdout",
     "output_type": "stream",
     "text": [
      " - Running query URL:  https://weather.visualcrossing.com/VisualCrossingWebServices/rest/services/timeline/47.39,8.54/2023-05-22/2023-05-22?&unitGroup=metric&contentType=csv&include=days&key=XB2AJ7B74CP7PS8RWU3HY8WME\n",
      "\n"
     ]
    },
    {
     "name": "stderr",
     "output_type": "stream",
     "text": [
      "127.0.0.1 - - [21/May/2023 12:04:38] \"GET /prediction HTTP/1.1\" 200 -\n"
     ]
    }
   ],
   "source": [
    "# Import the required libraries\n",
    "import joblib\n",
    "import datetime\n",
    "import config\n",
    "import input\n",
    "import preprocessing_functions as pf\n",
    "import pandas as pd\n",
    "from AQI_form import AQIForm\n",
    "from flask import Flask\n",
    "from flask import request\n",
    "from flask import jsonify\n",
    "from flask import session\n",
    "from flask import url_for\n",
    "from flask import redirect\n",
    "from flask import render_template\n",
    "from AQI_form import AQIForm\n",
    "\n",
    "# Read the model\n",
    "#AQIModel = joblib.load(\"Decision_Tree_AQI-Project.pkl\")\n",
    "AQIModel = \"bla\"\n",
    "\n",
    "# Prediction function\n",
    "def make_prediction(model, sample_json):\n",
    "    # parse input from request\n",
    "    PredictionDate = sample_json['PredictionDate']\n",
    "    PredictionCity = sample_json['PredictionCity']\n",
    "\n",
    "    PredictionDate = pf.form_format_date(PredictionDate)\n",
    "\n",
    "    input.model_weather_data(PredictionDate, PredictionCity)\n",
    "\n",
    "    # CSV-File ins Dataframe einlesen\n",
    "    df_weather = pd.read_csv(config.csv_temp_weather)\n",
    "    \n",
    "    ##Code zum extrahieren der Daten für das Model => precipprob, windgust, visibility\n",
    "    precipprob = df_weather['precipprob']\n",
    "    windgust = df_weather['windgust']\n",
    "    visibility = df_weather['visibility']    \n",
    "    \n",
    "    # Make an input vector\n",
    "    weather = [[precipprob, windgust, visibility]]\n",
    "\n",
    "    # Predict\n",
    "    #PM10_prediction = model.predict(weather)\n",
    "\n",
    "    #return PM10_prediction\n",
    "    return weather\n",
    "\n",
    "app = Flask(__name__)\n",
    "app.config['SECRET_KEY'] = 'mysecretkey'\n",
    "\n",
    "@app.route(\"/\", methods=['GET','POST'])\n",
    "def index():\n",
    "    form = AQIForm()\n",
    "\n",
    "    if form.validate_on_submit():\n",
    "        session['PredictionDate'] = form.PredictionDate.data\n",
    "        session['PredictionCity'] = form.PredictionCity.data\n",
    "\n",
    "        return redirect(url_for(\"prediction\"))\n",
    "        \n",
    "    return render_template(\"home.html\", form=form)\n",
    "\n",
    "@app.route('/prediction')\n",
    "def prediction():\n",
    "    content = {'PredictionDate': session['PredictionDate'],'PredictionCity': str(session['PredictionCity'])}\n",
    "\n",
    "    results = make_prediction(AQIModel, content)\n",
    "\n",
    "    return render_template('prediction.html', results=results)\n",
    "\n",
    "if __name__ == '__main__':\n",
    "    app.run(host='0.0.0.0', port=8080)\n"
   ]
  }
 ],
 "metadata": {
  "kernelspec": {
   "display_name": "ADSenv",
   "language": "python",
   "name": "python3"
  },
  "language_info": {
   "codemirror_mode": {
    "name": "ipython",
    "version": 3
   },
   "file_extension": ".py",
   "mimetype": "text/x-python",
   "name": "python",
   "nbconvert_exporter": "python",
   "pygments_lexer": "ipython3",
   "version": "3.10.9"
  },
  "orig_nbformat": 4
 },
 "nbformat": 4,
 "nbformat_minor": 2
}
