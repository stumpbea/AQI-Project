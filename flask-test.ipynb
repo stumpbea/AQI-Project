{
 "cells": [
  {
   "cell_type": "code",
   "execution_count": 1,
   "metadata": {},
   "outputs": [
    {
     "ename": "ModuleNotFoundError",
     "evalue": "No module named 'flower_form'",
     "output_type": "error",
     "traceback": [
      "\u001b[1;31m---------------------------------------------------------------------------\u001b[0m",
      "\u001b[1;31mModuleNotFoundError\u001b[0m                       Traceback (most recent call last)",
      "Cell \u001b[1;32mIn[1], line 10\u001b[0m\n\u001b[0;32m      8\u001b[0m \u001b[39mfrom\u001b[39;00m \u001b[39mflask\u001b[39;00m \u001b[39mimport\u001b[39;00m redirect\n\u001b[0;32m      9\u001b[0m \u001b[39mfrom\u001b[39;00m \u001b[39mflask\u001b[39;00m \u001b[39mimport\u001b[39;00m render_template\n\u001b[1;32m---> 10\u001b[0m \u001b[39mfrom\u001b[39;00m \u001b[39mflower_form\u001b[39;00m \u001b[39mimport\u001b[39;00m FlowerForm\n\u001b[0;32m     12\u001b[0m \u001b[39m# Read the models\u001b[39;00m\n\u001b[0;32m     13\u001b[0m \u001b[39m#classifier_loaded = joblib.load(\"saved_models/01.knn_with_iris_dataset.pkl\")\u001b[39;00m\n\u001b[0;32m     14\u001b[0m \n\u001b[0;32m     15\u001b[0m \u001b[39m# Prediction function\u001b[39;00m\n\u001b[0;32m     16\u001b[0m \u001b[39mdef\u001b[39;00m \u001b[39mmake_prediction\u001b[39m(model, sample_json):\n\u001b[0;32m     17\u001b[0m     \u001b[39m# parse input from request\u001b[39;00m\n",
      "\u001b[1;31mModuleNotFoundError\u001b[0m: No module named 'flower_form'"
     ]
    }
   ],
   "source": [
    "# Import the required libraries\n",
    "import joblib\n",
    "from flask import Flask\n",
    "from flask import request\n",
    "from flask import jsonify\n",
    "from flask import session\n",
    "from flask import url_for\n",
    "from flask import redirect\n",
    "from flask import render_template\n",
    "from flower_form import FlowerForm\n",
    "\n",
    "# Read the models\n",
    "#classifier_loaded = joblib.load(\"saved_models/01.knn_with_iris_dataset.pkl\")\n",
    "\n",
    "# Prediction function\n",
    "def make_prediction(model, sample_json):\n",
    "    # parse input from request\n",
    "    PredictionDate = sample_json['PredictionDate']\n",
    "\n",
    "    # Predict\n",
    "    AQIprediction = model.predict(PredictionDate)\n",
    "\n",
    "    return AQIprediction[0]\n",
    "\n",
    "\n",
    "app = Flask(__name__)\n",
    "app.config['SECRET_KEY'] = 'mysecretkey'\n",
    "\n",
    "@app.route(\"/\", methods=['GET','POST'])\n",
    "def index():\n",
    "    form = AQIQuery()\n",
    "\n",
    "    if form.validate_on_submit():\n",
    "        session['PredictionDate'] = form.PredictionDate.data\n",
    "\n",
    "        return redirect(url_for(\"prediction\"))\n",
    "        \n",
    "    return render_template(\"home.html\", form=form)\n",
    "\n",
    "@app.route('/prediction')\n",
    "def prediction():\n",
    "    content = {'PredictionDate': date(session['PredictionDate'])}\n",
    "\n",
    "    results = make_prediction(AQIModel, content)\n",
    "\n",
    "    return render_template('prediction.html', results=results)\n",
    "\n",
    "if __name__ == '__main__':\n",
    "    app.run(host='0.0.0.0', port=8080)\n"
   ]
  }
 ],
 "metadata": {
  "kernelspec": {
   "display_name": "ADSenv",
   "language": "python",
   "name": "python3"
  },
  "language_info": {
   "codemirror_mode": {
    "name": "ipython",
    "version": 3
   },
   "file_extension": ".py",
   "mimetype": "text/x-python",
   "name": "python",
   "nbconvert_exporter": "python",
   "pygments_lexer": "ipython3",
   "version": "3.10.9"
  },
  "orig_nbformat": 4
 },
 "nbformat": 4,
 "nbformat_minor": 2
}
