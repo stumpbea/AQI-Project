{
 "cells": [
  {
   "attachments": {},
   "cell_type": "markdown",
   "metadata": {},
   "source": [
    "## Import Libraries"
   ]
  },
  {
   "cell_type": "code",
   "execution_count": 23,
   "metadata": {},
   "outputs": [],
   "source": [
    "import config\n",
    "import pandas as pd\n",
    "from sklearn.model_selection import train_test_split\n",
    "from sklearn.linear_model import LinearRegression\n",
    "from sklearn.tree import DecisionTreeRegressor\n",
    "from sklearn.ensemble import RandomForestRegressor\n",
    "from sklearn.metrics import mean_squared_error\n",
    "from sqlalchemy import text\n",
    "from tensorflow import keras\n",
    "from sklearn.metrics import mean_absolute_error, mean_squared_error, r2_score, explained_variance_score"
   ]
  },
  {
   "attachments": {},
   "cell_type": "markdown",
   "metadata": {},
   "source": [
    "## Load and prepare data"
   ]
  },
  {
   "cell_type": "code",
   "execution_count": 24,
   "metadata": {},
   "outputs": [],
   "source": [
    "# Lade den Datensatz aus DB\n",
    "#SQLquery = text('SELECT * FROM ' + config.db_weather_history + ' AS w JOIN ' + config.db_AQI_history + ' AS aqi ON w.\"datetime\" = aqi.\"Datum\"')\n",
    "SQLquery = text('SELECT \"Wert\", \"precipprob\", \"windgust\", \"visibility\" FROM ' + config.db_weather_history + ' AS w JOIN ' + config.db_AQI_history + ' AS aqi ON w.\"datetime\" = aqi.\"Datum\"')\n",
    "data = pd.read_sql(SQLquery, con=config.db_login.connect())\n",
    "\n",
    "# Entferne Datensätze mit leeren Werten in den angegebenen Spalten\n",
    "data.dropna(subset=['Wert', 'precipprob', 'windgust', 'visibility'], inplace=True)"
   ]
  },
  {
   "attachments": {},
   "cell_type": "markdown",
   "metadata": {},
   "source": [
    "## Split the data into training and testing sets:"
   ]
  },
  {
   "cell_type": "code",
   "execution_count": 25,
   "metadata": {},
   "outputs": [],
   "source": [
    "# Aufteilung der Daten in Features (X) und Luftqualität (y)\n",
    "X = data[['precipprob', 'windgust', 'visibility']]\n",
    "y = data['Wert']\n",
    "\n",
    "# Aufteilung der Daten in Trainings- und Testsets\n",
    "X_train, X_test, y_train, y_test = train_test_split(X, y, test_size=0.2, random_state=42)"
   ]
  },
  {
   "attachments": {},
   "cell_type": "markdown",
   "metadata": {},
   "source": [
    "## Model Creation (Train and Predict)"
   ]
  },
  {
   "cell_type": "code",
   "execution_count": 26,
   "metadata": {},
   "outputs": [],
   "source": [
    "# Lineare Regression\n",
    "linear_model = LinearRegression()\n",
    "linear_model.fit(X_train, y_train)\n",
    "linear_predictions = linear_model.predict(X_test)"
   ]
  },
  {
   "cell_type": "code",
   "execution_count": 27,
   "metadata": {},
   "outputs": [],
   "source": [
    "# Entscheidungsbaum\n",
    "tree_model = DecisionTreeRegressor()\n",
    "tree_model.fit(X_train, y_train)\n",
    "tree_predictions = tree_model.predict(X_test)"
   ]
  },
  {
   "cell_type": "code",
   "execution_count": 28,
   "metadata": {},
   "outputs": [],
   "source": [
    "# Random Forest\n",
    "forest_model = RandomForestRegressor()\n",
    "forest_model.fit(X_train, y_train)\n",
    "forest_predictions = forest_model.predict(X_test)"
   ]
  },
  {
   "cell_type": "code",
   "execution_count": 29,
   "metadata": {},
   "outputs": [
    {
     "name": "stdout",
     "output_type": "stream",
     "text": [
      "Epoch 1/10\n",
      "1208/1208 [==============================] - 4s 3ms/step - loss: 158.6436\n",
      "Epoch 2/10\n",
      "1208/1208 [==============================] - 3s 2ms/step - loss: 96.7429\n",
      "Epoch 3/10\n",
      "1208/1208 [==============================] - 3s 2ms/step - loss: 92.6041\n",
      "Epoch 4/10\n",
      "1208/1208 [==============================] - 3s 2ms/step - loss: 91.3894\n",
      "Epoch 5/10\n",
      "1208/1208 [==============================] - 3s 2ms/step - loss: 91.3181\n",
      "Epoch 6/10\n",
      "1208/1208 [==============================] - 3s 2ms/step - loss: 90.7851\n",
      "Epoch 7/10\n",
      "1208/1208 [==============================] - 2s 2ms/step - loss: 90.7301\n",
      "Epoch 8/10\n",
      "1208/1208 [==============================] - 3s 2ms/step - loss: 90.1917\n",
      "Epoch 9/10\n",
      "1208/1208 [==============================] - 3s 3ms/step - loss: 89.6463\n",
      "Epoch 10/10\n",
      "1208/1208 [==============================] - 3s 3ms/step - loss: 89.5420\n",
      "302/302 [==============================] - 1s 2ms/step\n"
     ]
    }
   ],
   "source": [
    "# Neuronales Netzwerk\n",
    "model = keras.Sequential([\n",
    "    keras.layers.Dense(64, activation='relu', input_shape=(X_train.shape[1],)),\n",
    "    keras.layers.Dense(64, activation='relu'),\n",
    "    keras.layers.Dense(1)\n",
    "])\n",
    "model.compile(optimizer='adam', loss='mean_squared_error')\n",
    "model.fit(X_train, y_train, epochs=10, batch_size=32)\n",
    "nn_predictions = model.predict(X_test)"
   ]
  },
  {
   "attachments": {},
   "cell_type": "markdown",
   "metadata": {},
   "source": [
    "## Model Evaluation"
   ]
  },
  {
   "cell_type": "code",
   "execution_count": 30,
   "metadata": {},
   "outputs": [
    {
     "name": "stdout",
     "output_type": "stream",
     "text": [
      "Lineare Regression RMSE: 10.759961678139554\n",
      "Linear Regression Mean Absolute Error (MAE): 7.5502604510991675\n",
      "Linear Regression Mean Squared Error (MSE): 115.77677531503178\n",
      "Linear Regression R^2 Score: 0.27531646432243184\n",
      "Linear Regression Explained Variance Score: 0.27605018587412244\n",
      "-------\n",
      "Decision Tree RMSE: 1.805886161886597\n",
      "Decision Tree Mean Absolute Error (MAE): 0.45638830741911884\n",
      "Decision Tree Mean Squared Error (MSE): 3.261224829693504\n",
      "Decision Tree R^2 Score: 0.9795869600462528\n",
      "Decision Tree Explained Variance Score: 0.9795872134164955\n",
      "-------\n",
      "Random Forest RMSE: 1.811624074401448\n",
      "Random Forest Mean Absolute Error (MAE): 0.5045562775178334\n",
      "Random Forest Mean Squared Error (MSE): 3.281981786950903\n",
      "Random Forest R^2 Score: 0.9794570356712279\n",
      "Random Forest Explained Variance Score: 0.9794574171589946\n",
      "-------\n",
      "Neuronal Network RMSE: 9.540618261069623\n",
      "Neuronal Network Mean Absolute Error (MAE): 6.846510995002631\n",
      "Neuronal Network Mean Squared Error (MSE): 91.02339680345516\n",
      "Neuronal Network R^2 Score: 0.4302557067648276\n",
      "Neuronal Network Explained Variance Score: 0.4303475209681127\n"
     ]
    }
   ],
   "source": [
    "# Linear Regression \n",
    "linear_rmse = mean_squared_error(y_test, linear_predictions, squared=False)\n",
    "print(\"Lineare Regression RMSE:\", linear_rmse)\n",
    "\n",
    "# Mean Absolute Error (MAE)\n",
    "mae = mean_absolute_error(y_test, linear_predictions)\n",
    "print(\"Linear Regression Mean Absolute Error (MAE):\", mae)\n",
    "\n",
    "# Mean Squared Error (MSE)\n",
    "mse = mean_squared_error(y_test, linear_predictions)\n",
    "print(\"Linear Regression Mean Squared Error (MSE):\", mse)\n",
    "\n",
    "# R^2 Score\n",
    "r2 = r2_score(y_test, linear_predictions)\n",
    "print(\"Linear Regression R^2 Score:\", r2)\n",
    "\n",
    "# Explained Variance Score\n",
    "explained_variance = explained_variance_score(y_test, linear_predictions)\n",
    "print(\"Linear Regression Explained Variance Score:\", explained_variance)\n",
    "\n",
    "# ------\n",
    "print(\"-------\")\n",
    "# Decision Tree\n",
    "tree_rmse = mean_squared_error(y_test, tree_predictions, squared=False)\n",
    "print(\"Decision Tree RMSE:\", tree_rmse)\n",
    "\n",
    "# Mean Absolute Error (MAE)\n",
    "mae = mean_absolute_error(y_test, tree_predictions)\n",
    "print(\"Decision Tree Mean Absolute Error (MAE):\", mae)\n",
    "\n",
    "# Mean Squared Error (MSE)\n",
    "mse = mean_squared_error(y_test, tree_predictions)\n",
    "print(\"Decision Tree Mean Squared Error (MSE):\", mse)\n",
    "\n",
    "# R^2 Score\n",
    "r2 = r2_score(y_test, tree_predictions)\n",
    "print(\"Decision Tree R^2 Score:\", r2)\n",
    "\n",
    "# Explained Variance Score\n",
    "explained_variance = explained_variance_score(y_test, tree_predictions)\n",
    "print(\"Decision Tree Explained Variance Score:\", explained_variance)\n",
    "\n",
    "# ------\n",
    "print(\"-------\")\n",
    "# Random Forest \n",
    "forest_rmse = mean_squared_error(y_test, forest_predictions, squared=False)\n",
    "print(\"Random Forest RMSE:\", forest_rmse)\n",
    "\n",
    "# Mean Absolute Error (MAE)\n",
    "mae = mean_absolute_error(y_test, forest_predictions)\n",
    "print(\"Random Forest Mean Absolute Error (MAE):\", mae)\n",
    "\n",
    "# Mean Squared Error (MSE)\n",
    "mse = mean_squared_error(y_test, forest_predictions)\n",
    "print(\"Random Forest Mean Squared Error (MSE):\", mse)\n",
    "\n",
    "# R^2 Score\n",
    "r2 = r2_score(y_test, forest_predictions)\n",
    "print(\"Random Forest R^2 Score:\", r2)\n",
    "\n",
    "# Explained Variance Score\n",
    "explained_variance = explained_variance_score(y_test, forest_predictions)\n",
    "print(\"Random Forest Explained Variance Score:\", explained_variance)\n",
    "\n",
    "# ------\n",
    "print(\"-------\")\n",
    "# Neuronal Network \n",
    "nn_rmse = mean_squared_error(y_test, nn_predictions, squared=False)\n",
    "print(\"Neuronal Network RMSE:\", nn_rmse)\n",
    "\n",
    "# Mean Absolute Error (MAE)\n",
    "mae = mean_absolute_error(y_test, nn_predictions)\n",
    "print(\"Neuronal Network Mean Absolute Error (MAE):\", mae)\n",
    "\n",
    "# Mean Squared Error (MSE)\n",
    "mse = mean_squared_error(y_test, nn_predictions)\n",
    "print(\"Neuronal Network Mean Squared Error (MSE):\", mse)\n",
    "\n",
    "# R^2 Score\n",
    "r2 = r2_score(y_test, nn_predictions)\n",
    "print(\"Neuronal Network R^2 Score:\", r2)\n",
    "\n",
    "# Explained Variance Score\n",
    "explained_variance = explained_variance_score(y_test, nn_predictions)\n",
    "print(\"Neuronal Network Explained Variance Score:\", explained_variance)\n"
   ]
  },
  {
   "cell_type": "code",
   "execution_count": 31,
   "metadata": {},
   "outputs": [
    {
     "name": "stdout",
     "output_type": "stream",
     "text": [
      "       Tatsächlicher Wert  Vorhersage\n",
      "44825               21.52   21.520000\n",
      "63379               23.38   23.380000\n",
      "56823                4.89   10.551176\n",
      "59105               17.05   17.050000\n",
      "59416               20.81   20.810000\n",
      "...                   ...         ...\n",
      "11841               55.88   55.880000\n",
      "54484               18.19   18.190000\n",
      "4427                22.11   22.110000\n",
      "20354               77.72   77.720000\n",
      "54869                9.57    9.570000\n",
      "\n",
      "[9658 rows x 2 columns]\n"
     ]
    }
   ],
   "source": [
    "# Review Predictions und tatsächlicher Wert\n",
    "\n",
    "results = pd.DataFrame({'Tatsächlicher Wert': y_test, 'Vorhersage': tree_predictions})\n",
    "print(results)"
   ]
  },
  {
   "attachments": {},
   "cell_type": "markdown",
   "metadata": {},
   "source": [
    "# Model Deployment"
   ]
  },
  {
   "cell_type": "code",
   "execution_count": 32,
   "metadata": {},
   "outputs": [
    {
     "name": "stdout",
     "output_type": "stream",
     "text": [
      "       precipprob  windgust  visibility\n",
      "44825         100      64.8        21.4\n",
      "63379         100      32.9        10.0\n",
      "56823         100      39.6        10.0\n",
      "59105         100      38.9        13.4\n",
      "59416         100      40.9        12.9\n",
      "...           ...       ...         ...\n",
      "11841         100      22.1         5.1\n",
      "54484         100      35.8        10.0\n",
      "4427          100      38.1         6.9\n",
      "20354           0      14.6         5.6\n",
      "54869         100      45.2        30.0\n",
      "\n",
      "[9658 rows x 3 columns]\n",
      "[21.52       23.38       10.55117647 ... 22.11       77.72\n",
      "  9.57      ]\n"
     ]
    }
   ],
   "source": [
    "import joblib\n",
    "# Speichern des Modells in einer pkl-Datei\n",
    "joblib.dump(tree_model, 'Decision_Tree_AQI_Project.pkl')\n",
    "# Laden des Modells aus der pkl-Datei\n",
    "loaded_model = joblib.load('Decision_Tree_AQI_Project.pkl')\n",
    "\n",
    "print(X_test)\n",
    "\n",
    "# Verwendung des geladenen Modells für Vorhersagen\n",
    "predictions = loaded_model.predict(X_test)\n",
    "\n",
    "print(predictions)"
   ]
  }
 ],
 "metadata": {
  "kernelspec": {
   "display_name": "adsenv",
   "language": "python",
   "name": "python3"
  },
  "language_info": {
   "codemirror_mode": {
    "name": "ipython",
    "version": 3
   },
   "file_extension": ".py",
   "mimetype": "text/x-python",
   "name": "python",
   "nbconvert_exporter": "python",
   "pygments_lexer": "ipython3",
   "version": "3.10.9"
  },
  "orig_nbformat": 4
 },
 "nbformat": 4,
 "nbformat_minor": 2
}
