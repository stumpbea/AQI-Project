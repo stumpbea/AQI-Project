{
 "cells": [
  {
   "attachments": {},
   "cell_type": "markdown",
   "metadata": {},
   "source": [
    "## Import Libraries"
   ]
  },
  {
   "cell_type": "code",
   "execution_count": 15,
   "metadata": {},
   "outputs": [],
   "source": [
    "import pandas as pd\n",
    "from sklearn.model_selection import train_test_split\n",
    "from sklearn.linear_model import LinearRegression\n",
    "from sklearn.tree import DecisionTreeRegressor\n",
    "from sklearn.ensemble import RandomForestRegressor\n",
    "from sklearn.metrics import mean_squared_error\n",
    "import tensorflow as tf\n",
    "from tensorflow import keras\n",
    "from sklearn.metrics import mean_absolute_error, mean_squared_error, r2_score, explained_variance_score"
   ]
  },
  {
   "attachments": {},
   "cell_type": "markdown",
   "metadata": {},
   "source": [
    "## Load and prepare data"
   ]
  },
  {
   "cell_type": "code",
   "execution_count": 12,
   "metadata": {},
   "outputs": [],
   "source": [
    "# Lade den Datensatz aus 'merged_tables.csv'\n",
    "data = pd.read_csv('merged_tables.csv')\n",
    "# Entferne Datensätze mit leeren Werten in den angegebenen Spalten\n",
    "data.dropna(subset=['Wert', 'precipprob', 'windgust', 'visibility'], inplace=True)"
   ]
  },
  {
   "attachments": {},
   "cell_type": "markdown",
   "metadata": {},
   "source": [
    "## Split the data into training and testing sets:"
   ]
  },
  {
   "cell_type": "code",
   "execution_count": 13,
   "metadata": {},
   "outputs": [],
   "source": [
    "# Aufteilung der Daten in Features (X) und Luftqualität (y)\n",
    "X = data[['precipprob', 'windgust', 'visibility']]\n",
    "y = data['Wert']\n",
    "\n",
    "# Aufteilung der Daten in Trainings- und Testsets\n",
    "X_train, X_test, y_train, y_test = train_test_split(X, y, test_size=0.2, random_state=42)"
   ]
  },
  {
   "attachments": {},
   "cell_type": "markdown",
   "metadata": {},
   "source": [
    "## Model Creation"
   ]
  },
  {
   "cell_type": "code",
   "execution_count": 4,
   "metadata": {},
   "outputs": [
    {
     "name": "stdout",
     "output_type": "stream",
     "text": [
      "Lineare Regression RMSE: 10.517236753153938\n"
     ]
    }
   ],
   "source": [
    "# Lineare Regression\n",
    "linear_model = LinearRegression()\n",
    "linear_model.fit(X_train, y_train)\n",
    "linear_predictions = linear_model.predict(X_test)"
   ]
  },
  {
   "cell_type": "code",
   "execution_count": 16,
   "metadata": {},
   "outputs": [
    {
     "name": "stdout",
     "output_type": "stream",
     "text": [
      "Entscheidungsbaum RMSE: 1.8641014721382632\n",
      "Mean Absolute Error (MAE): 0.472338860051359\n",
      "Mean Squared Error (MSE): 3.47487429842804\n",
      "R^2 Score: 0.9769467319421307\n",
      "Explained Variance Score: 0.9769474453264686\n"
     ]
    }
   ],
   "source": [
    "# Entscheidungsbaum\n",
    "tree_model = DecisionTreeRegressor()\n",
    "tree_model.fit(X_train, y_train)\n",
    "tree_predictions = tree_model.predict(X_test)"
   ]
  },
  {
   "cell_type": "code",
   "execution_count": 6,
   "metadata": {},
   "outputs": [
    {
     "name": "stdout",
     "output_type": "stream",
     "text": [
      "Random Forest RMSE: 1.9226926684854884\n"
     ]
    }
   ],
   "source": [
    "# Random Forest\n",
    "forest_model = RandomForestRegressor()\n",
    "forest_model.fit(X_train, y_train)\n",
    "forest_predictions = forest_model.predict(X_test)"
   ]
  },
  {
   "cell_type": "code",
   "execution_count": 22,
   "metadata": {},
   "outputs": [
    {
     "name": "stdout",
     "output_type": "stream",
     "text": [
      "Epoch 1/10\n",
      "906/906 [==============================] - 7s 5ms/step - loss: 185.6165\n",
      "Epoch 2/10\n",
      "906/906 [==============================] - 3s 3ms/step - loss: 116.5620\n",
      "Epoch 3/10\n",
      "906/906 [==============================] - 3s 3ms/step - loss: 95.8578\n",
      "Epoch 4/10\n",
      "906/906 [==============================] - 2s 2ms/step - loss: 94.1520\n",
      "Epoch 5/10\n",
      "906/906 [==============================] - 2s 2ms/step - loss: 93.1985\n",
      "Epoch 6/10\n",
      "906/906 [==============================] - 2s 2ms/step - loss: 92.3493\n",
      "Epoch 7/10\n",
      "906/906 [==============================] - 2s 2ms/step - loss: 92.1556\n",
      "Epoch 8/10\n",
      "906/906 [==============================] - 2s 2ms/step - loss: 91.8781\n",
      "Epoch 9/10\n",
      "906/906 [==============================] - 2s 2ms/step - loss: 91.7418\n",
      "Epoch 10/10\n",
      "906/906 [==============================] - 2s 2ms/step - loss: 91.0009\n",
      "227/227 [==============================] - 0s 2ms/step\n"
     ]
    }
   ],
   "source": [
    "# Neuronales Netzwerk\n",
    "model = keras.Sequential([\n",
    "    keras.layers.Dense(64, activation='relu', input_shape=(X_train.shape[1],)),\n",
    "    keras.layers.Dense(64, activation='relu'),\n",
    "    keras.layers.Dense(1)\n",
    "])\n",
    "model.compile(optimizer='adam', loss='mean_squared_error')\n",
    "model.fit(X_train, y_train, epochs=10, batch_size=32)\n",
    "nn_predictions = model.predict(X_test)"
   ]
  },
  {
   "attachments": {},
   "cell_type": "markdown",
   "metadata": {},
   "source": [
    "## Model Evaluation"
   ]
  },
  {
   "cell_type": "code",
   "execution_count": 21,
   "metadata": {},
   "outputs": [
    {
     "name": "stdout",
     "output_type": "stream",
     "text": [
      "Lineare Regression RMSE: 10.517236753153938\n",
      "Linear Regression Mean Absolute Error (MAE): 7.491540286867864\n",
      "Linear Regression Mean Squared Error (MSE): 110.61226892189198\n",
      "Linear Regression R^2 Score: 0.26616790509542887\n",
      "Linear Regression Explained Variance Score: 0.266531266231666\n",
      "-------\n",
      "Decision Tree RMSE: 1.8641014721382632\n",
      "Decision Tree Mean Absolute Error (MAE): 0.472338860051359\n",
      "Decision Tree Mean Squared Error (MSE): 3.47487429842804\n",
      "Decision Tree R^2 Score: 0.9769467319421307\n",
      "Decision Tree Explained Variance Score: 0.9769474453264686\n",
      "-------\n",
      "Random Forest RMSE: 1.9226926684854884\n",
      "Random Forest Mean Absolute Error (MAE): 0.6738695046210812\n",
      "Random Forest Mean Squared Error (MSE): 3.6967470974478482\n",
      "Random Forest R^2 Score: 0.9754747670100848\n",
      "Random Forest Explained Variance Score: 0.9754759031682241\n",
      "-------\n",
      "Neuronal Network RMSE: 9.44706274252924\n",
      "Neuronal Network Mean Absolute Error (MAE): 6.836361900184248\n",
      "Neuronal Network Mean Squared Error (MSE): 89.24699446128409\n",
      "Neuronal Network R^2 Score: 0.407910989008754\n",
      "Neuronal Network Explained Variance Score: 0.41082459776963887\n"
     ]
    }
   ],
   "source": [
    "# Linear Regression \n",
    "linear_rmse = mean_squared_error(y_test, linear_predictions, squared=False)\n",
    "print(\"Lineare Regression RMSE:\", linear_rmse)\n",
    "\n",
    "# Mean Absolute Error (MAE)\n",
    "mae = mean_absolute_error(y_test, linear_predictions)\n",
    "print(\"Linear Regression Mean Absolute Error (MAE):\", mae)\n",
    "\n",
    "# Mean Squared Error (MSE)\n",
    "mse = mean_squared_error(y_test, linear_predictions)\n",
    "print(\"Linear Regression Mean Squared Error (MSE):\", mse)\n",
    "\n",
    "# R^2 Score\n",
    "r2 = r2_score(y_test, linear_predictions)\n",
    "print(\"Linear Regression R^2 Score:\", r2)\n",
    "\n",
    "# Explained Variance Score\n",
    "explained_variance = explained_variance_score(y_test, linear_predictions)\n",
    "print(\"Linear Regression Explained Variance Score:\", explained_variance)\n",
    "\n",
    "# ------\n",
    "print(\"-------\")\n",
    "# Decision Tree\n",
    "tree_rmse = mean_squared_error(y_test, tree_predictions, squared=False)\n",
    "print(\"Decision Tree RMSE:\", tree_rmse)\n",
    "\n",
    "# Mean Absolute Error (MAE)\n",
    "mae = mean_absolute_error(y_test, tree_predictions)\n",
    "print(\"Decision Tree Mean Absolute Error (MAE):\", mae)\n",
    "\n",
    "# Mean Squared Error (MSE)\n",
    "mse = mean_squared_error(y_test, tree_predictions)\n",
    "print(\"Decision Tree Mean Squared Error (MSE):\", mse)\n",
    "\n",
    "# R^2 Score\n",
    "r2 = r2_score(y_test, tree_predictions)\n",
    "print(\"Decision Tree R^2 Score:\", r2)\n",
    "\n",
    "# Explained Variance Score\n",
    "explained_variance = explained_variance_score(y_test, tree_predictions)\n",
    "print(\"Decision Tree Explained Variance Score:\", explained_variance)\n",
    "\n",
    "# ------\n",
    "print(\"-------\")\n",
    "# Random Forest \n",
    "forest_rmse = mean_squared_error(y_test, forest_predictions, squared=False)\n",
    "print(\"Random Forest RMSE:\", forest_rmse)\n",
    "\n",
    "# Mean Absolute Error (MAE)\n",
    "mae = mean_absolute_error(y_test, forest_predictions)\n",
    "print(\"Random Forest Mean Absolute Error (MAE):\", mae)\n",
    "\n",
    "# Mean Squared Error (MSE)\n",
    "mse = mean_squared_error(y_test, forest_predictions)\n",
    "print(\"Random Forest Mean Squared Error (MSE):\", mse)\n",
    "\n",
    "# R^2 Score\n",
    "r2 = r2_score(y_test, forest_predictions)\n",
    "print(\"Random Forest R^2 Score:\", r2)\n",
    "\n",
    "# Explained Variance Score\n",
    "explained_variance = explained_variance_score(y_test, forest_predictions)\n",
    "print(\"Random Forest Explained Variance Score:\", explained_variance)\n",
    "\n",
    "# ------\n",
    "print(\"-------\")\n",
    "# Neuronal Network \n",
    "nn_rmse = mean_squared_error(y_test, nn_predictions, squared=False)\n",
    "print(\"Neuronal Network RMSE:\", nn_rmse)\n",
    "\n",
    "# Mean Absolute Error (MAE)\n",
    "mae = mean_absolute_error(y_test, nn_predictions)\n",
    "print(\"Neuronal Network Mean Absolute Error (MAE):\", mae)\n",
    "\n",
    "# Mean Squared Error (MSE)\n",
    "mse = mean_squared_error(y_test, nn_predictions)\n",
    "print(\"Neuronal Network Mean Squared Error (MSE):\", mse)\n",
    "\n",
    "# R^2 Score\n",
    "r2 = r2_score(y_test, nn_predictions)\n",
    "print(\"Neuronal Network R^2 Score:\", r2)\n",
    "\n",
    "# Explained Variance Score\n",
    "explained_variance = explained_variance_score(y_test, nn_predictions)\n",
    "print(\"Neuronal Network Explained Variance Score:\", explained_variance)\n"
   ]
  }
 ],
 "metadata": {
  "kernelspec": {
   "display_name": "adsenv",
   "language": "python",
   "name": "python3"
  },
  "language_info": {
   "codemirror_mode": {
    "name": "ipython",
    "version": 3
   },
   "file_extension": ".py",
   "mimetype": "text/x-python",
   "name": "python",
   "nbconvert_exporter": "python",
   "pygments_lexer": "ipython3",
   "version": "3.10.9"
  },
  "orig_nbformat": 4
 },
 "nbformat": 4,
 "nbformat_minor": 2
}
