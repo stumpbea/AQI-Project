{
 "cells": [
  {
   "attachments": {},
   "cell_type": "markdown",
   "metadata": {},
   "source": [
    "## Import Libraries"
   ]
  },
  {
   "cell_type": "code",
   "execution_count": 9,
   "metadata": {},
   "outputs": [],
   "source": [
    "import config\n",
    "import pandas as pd\n",
    "from sklearn.model_selection import train_test_split\n",
    "from sklearn.linear_model import LinearRegression\n",
    "from sklearn.tree import DecisionTreeRegressor\n",
    "from sklearn.ensemble import RandomForestRegressor\n",
    "from sklearn.metrics import mean_squared_error\n",
    "from sqlalchemy import text\n",
    "from tensorflow import keras\n",
    "from sklearn.metrics import mean_absolute_error, mean_squared_error, r2_score, explained_variance_score"
   ]
  },
  {
   "attachments": {},
   "cell_type": "markdown",
   "metadata": {},
   "source": [
    "## Load and prepare data"
   ]
  },
  {
   "cell_type": "code",
   "execution_count": 10,
   "metadata": {},
   "outputs": [],
   "source": [
    "# Lade den Datensatz aus DB\n",
    "SQLquery = text('SELECT * FROM ' + config.db_weather_history + ' AS w JOIN ' + config.db_AQI_history + ' AS aqi ON w.\"datetime\" = aqi.\"Datum\"')\n",
    "data = pd.read_sql(SQLquery, con=config.db_login.connect())\n",
    "\n",
    "# Entferne Datensätze mit leeren Werten in den angegebenen Spalten\n",
    "data.dropna(subset=['Wert', 'precipprob', 'windgust', 'visibility'], inplace=True)"
   ]
  },
  {
   "attachments": {},
   "cell_type": "markdown",
   "metadata": {},
   "source": [
    "## Split the data into training and testing sets:"
   ]
  },
  {
   "cell_type": "code",
   "execution_count": 11,
   "metadata": {},
   "outputs": [],
   "source": [
    "# Aufteilung der Daten in Features (X) und Luftqualität (y)\n",
    "X = data[['precipprob', 'windgust', 'visibility']]\n",
    "y = data['Wert']\n",
    "\n",
    "# Aufteilung der Daten in Trainings- und Testsets\n",
    "X_train, X_test, y_train, y_test = train_test_split(X, y, test_size=0.2, random_state=42)"
   ]
  },
  {
   "attachments": {},
   "cell_type": "markdown",
   "metadata": {},
   "source": [
    "## Model Creation (Train and Predict)"
   ]
  },
  {
   "cell_type": "code",
   "execution_count": 12,
   "metadata": {},
   "outputs": [],
   "source": [
    "# Lineare Regression\n",
    "linear_model = LinearRegression()\n",
    "linear_model.fit(X_train, y_train)\n",
    "linear_predictions = linear_model.predict(X_test)"
   ]
  },
  {
   "cell_type": "code",
   "execution_count": 13,
   "metadata": {},
   "outputs": [],
   "source": [
    "# Entscheidungsbaum\n",
    "tree_model = DecisionTreeRegressor()\n",
    "tree_model.fit(X_train, y_train)\n",
    "tree_predictions = tree_model.predict(X_test)"
   ]
  },
  {
   "cell_type": "code",
   "execution_count": 14,
   "metadata": {},
   "outputs": [],
   "source": [
    "# Random Forest\n",
    "forest_model = RandomForestRegressor()\n",
    "forest_model.fit(X_train, y_train)\n",
    "forest_predictions = forest_model.predict(X_test)"
   ]
  },
  {
   "cell_type": "code",
   "execution_count": 15,
   "metadata": {},
   "outputs": [
    {
     "name": "stdout",
     "output_type": "stream",
     "text": [
      "Epoch 1/10\n",
      "3018/3018 [==============================] - 8s 3ms/step - loss: 121.0031\n",
      "Epoch 2/10\n",
      "3018/3018 [==============================] - 7s 2ms/step - loss: 92.1253\n",
      "Epoch 3/10\n",
      "3018/3018 [==============================] - 7s 2ms/step - loss: 91.1089\n",
      "Epoch 4/10\n",
      "3018/3018 [==============================] - 7s 2ms/step - loss: 90.3906\n",
      "Epoch 5/10\n",
      "3018/3018 [==============================] - 7s 2ms/step - loss: 89.6880\n",
      "Epoch 6/10\n",
      "3018/3018 [==============================] - 7s 2ms/step - loss: 89.1373\n",
      "Epoch 7/10\n",
      "3018/3018 [==============================] - 7s 2ms/step - loss: 88.8700\n",
      "Epoch 8/10\n",
      "3018/3018 [==============================] - 10s 3ms/step - loss: 88.4752\n",
      "Epoch 9/10\n",
      "3018/3018 [==============================] - 12s 4ms/step - loss: 88.2958\n",
      "Epoch 10/10\n",
      "3018/3018 [==============================] - 10s 3ms/step - loss: 88.0897\n",
      "755/755 [==============================] - 1s 2ms/step\n"
     ]
    }
   ],
   "source": [
    "# Neuronales Netzwerk\n",
    "model = keras.Sequential([\n",
    "    keras.layers.Dense(64, activation='relu', input_shape=(X_train.shape[1],)),\n",
    "    keras.layers.Dense(64, activation='relu'),\n",
    "    keras.layers.Dense(1)\n",
    "])\n",
    "model.compile(optimizer='adam', loss='mean_squared_error')\n",
    "model.fit(X_train, y_train, epochs=10, batch_size=32)\n",
    "nn_predictions = model.predict(X_test)"
   ]
  },
  {
   "attachments": {},
   "cell_type": "markdown",
   "metadata": {},
   "source": [
    "## Model Evaluation"
   ]
  },
  {
   "cell_type": "code",
   "execution_count": 16,
   "metadata": {},
   "outputs": [
    {
     "name": "stdout",
     "output_type": "stream",
     "text": [
      "Lineare Regression RMSE: 10.585922168900106\n",
      "Linear Regression Mean Absolute Error (MAE): 7.474681128697551\n",
      "Linear Regression Mean Squared Error (MSE): 112.06174816601073\n",
      "Linear Regression R^2 Score: 0.27852461639661275\n",
      "Linear Regression Explained Variance Score: 0.2785247552922785\n",
      "-------\n",
      "Decision Tree RMSE: 1.7183659812628398\n",
      "Decision Tree Mean Absolute Error (MAE): 0.44076340028854644\n",
      "Decision Tree Mean Squared Error (MSE): 2.9527816455614024\n",
      "Decision Tree R^2 Score: 0.9809894160559365\n",
      "Decision Tree Explained Variance Score: 0.9809905188590257\n",
      "-------\n",
      "Random Forest RMSE: 1.7199321347021936\n",
      "Random Forest Mean Absolute Error (MAE): 0.4409083188802661\n",
      "Random Forest Mean Squared Error (MSE): 2.9581665479812447\n",
      "Random Forest R^2 Score: 0.980954747004252\n",
      "Random Forest Explained Variance Score: 0.980955861705433\n",
      "-------\n",
      "Neuronal Network RMSE: 9.321453684212843\n",
      "Neuronal Network Mean Absolute Error (MAE): 6.638284986911822\n",
      "Neuronal Network Mean Squared Error (MSE): 86.88949878692517\n",
      "Neuronal Network R^2 Score: 0.4405884657846443\n",
      "Neuronal Network Explained Variance Score: 0.44095183897430634\n"
     ]
    }
   ],
   "source": [
    "# Linear Regression \n",
    "linear_rmse = mean_squared_error(y_test, linear_predictions, squared=False)\n",
    "print(\"Lineare Regression RMSE:\", linear_rmse)\n",
    "\n",
    "# Mean Absolute Error (MAE)\n",
    "mae = mean_absolute_error(y_test, linear_predictions)\n",
    "print(\"Linear Regression Mean Absolute Error (MAE):\", mae)\n",
    "\n",
    "# Mean Squared Error (MSE)\n",
    "mse = mean_squared_error(y_test, linear_predictions)\n",
    "print(\"Linear Regression Mean Squared Error (MSE):\", mse)\n",
    "\n",
    "# R^2 Score\n",
    "r2 = r2_score(y_test, linear_predictions)\n",
    "print(\"Linear Regression R^2 Score:\", r2)\n",
    "\n",
    "# Explained Variance Score\n",
    "explained_variance = explained_variance_score(y_test, linear_predictions)\n",
    "print(\"Linear Regression Explained Variance Score:\", explained_variance)\n",
    "\n",
    "# ------\n",
    "print(\"-------\")\n",
    "# Decision Tree\n",
    "tree_rmse = mean_squared_error(y_test, tree_predictions, squared=False)\n",
    "print(\"Decision Tree RMSE:\", tree_rmse)\n",
    "\n",
    "# Mean Absolute Error (MAE)\n",
    "mae = mean_absolute_error(y_test, tree_predictions)\n",
    "print(\"Decision Tree Mean Absolute Error (MAE):\", mae)\n",
    "\n",
    "# Mean Squared Error (MSE)\n",
    "mse = mean_squared_error(y_test, tree_predictions)\n",
    "print(\"Decision Tree Mean Squared Error (MSE):\", mse)\n",
    "\n",
    "# R^2 Score\n",
    "r2 = r2_score(y_test, tree_predictions)\n",
    "print(\"Decision Tree R^2 Score:\", r2)\n",
    "\n",
    "# Explained Variance Score\n",
    "explained_variance = explained_variance_score(y_test, tree_predictions)\n",
    "print(\"Decision Tree Explained Variance Score:\", explained_variance)\n",
    "\n",
    "# ------\n",
    "print(\"-------\")\n",
    "# Random Forest \n",
    "forest_rmse = mean_squared_error(y_test, forest_predictions, squared=False)\n",
    "print(\"Random Forest RMSE:\", forest_rmse)\n",
    "\n",
    "# Mean Absolute Error (MAE)\n",
    "mae = mean_absolute_error(y_test, forest_predictions)\n",
    "print(\"Random Forest Mean Absolute Error (MAE):\", mae)\n",
    "\n",
    "# Mean Squared Error (MSE)\n",
    "mse = mean_squared_error(y_test, forest_predictions)\n",
    "print(\"Random Forest Mean Squared Error (MSE):\", mse)\n",
    "\n",
    "# R^2 Score\n",
    "r2 = r2_score(y_test, forest_predictions)\n",
    "print(\"Random Forest R^2 Score:\", r2)\n",
    "\n",
    "# Explained Variance Score\n",
    "explained_variance = explained_variance_score(y_test, forest_predictions)\n",
    "print(\"Random Forest Explained Variance Score:\", explained_variance)\n",
    "\n",
    "# ------\n",
    "print(\"-------\")\n",
    "# Neuronal Network \n",
    "nn_rmse = mean_squared_error(y_test, nn_predictions, squared=False)\n",
    "print(\"Neuronal Network RMSE:\", nn_rmse)\n",
    "\n",
    "# Mean Absolute Error (MAE)\n",
    "mae = mean_absolute_error(y_test, nn_predictions)\n",
    "print(\"Neuronal Network Mean Absolute Error (MAE):\", mae)\n",
    "\n",
    "# Mean Squared Error (MSE)\n",
    "mse = mean_squared_error(y_test, nn_predictions)\n",
    "print(\"Neuronal Network Mean Squared Error (MSE):\", mse)\n",
    "\n",
    "# R^2 Score\n",
    "r2 = r2_score(y_test, nn_predictions)\n",
    "print(\"Neuronal Network R^2 Score:\", r2)\n",
    "\n",
    "# Explained Variance Score\n",
    "explained_variance = explained_variance_score(y_test, nn_predictions)\n",
    "print(\"Neuronal Network Explained Variance Score:\", explained_variance)\n"
   ]
  },
  {
   "cell_type": "code",
   "execution_count": 17,
   "metadata": {},
   "outputs": [
    {
     "name": "stdout",
     "output_type": "stream",
     "text": [
      "        Tatsächlicher Wert  Vorhersage\n",
      "78030                26.88   26.880000\n",
      "136185               11.47   11.470000\n",
      "71079                34.32   34.320000\n",
      "126118               17.99   17.990000\n",
      "45701                 4.10    4.100000\n",
      "...                    ...         ...\n",
      "60733                43.02   43.020000\n",
      "6807                 18.82   18.820000\n",
      "72003                17.98   17.980000\n",
      "103481               10.58   12.675484\n",
      "128225               14.89   14.890000\n",
      "\n",
      "[24144 rows x 2 columns]\n"
     ]
    }
   ],
   "source": [
    "# Review Predictions und tatsächlicher Wert\n",
    "\n",
    "results = pd.DataFrame({'Tatsächlicher Wert': y_test, 'Vorhersage': tree_predictions})\n",
    "print(results)"
   ]
  },
  {
   "attachments": {},
   "cell_type": "markdown",
   "metadata": {},
   "source": [
    "# Model Deployment"
   ]
  },
  {
   "cell_type": "code",
   "execution_count": 18,
   "metadata": {},
   "outputs": [
    {
     "name": "stdout",
     "output_type": "stream",
     "text": [
      "        precipprob  windgust  visibility\n",
      "78030            0      16.7         8.8\n",
      "136185         100      73.5         9.3\n",
      "71079            0      19.4         4.4\n",
      "126118           0      20.9        32.5\n",
      "45701          100      28.0         9.4\n",
      "...            ...       ...         ...\n",
      "60733            0      10.4        28.1\n",
      "6807             0      24.7        22.8\n",
      "72003            0      16.5        12.9\n",
      "103481           0      33.5        10.0\n",
      "128225         100      26.6        23.8\n",
      "\n",
      "[24144 rows x 3 columns]\n",
      "[26.88 11.47 34.32 ... 17.98 12.61 14.89]\n"
     ]
    }
   ],
   "source": [
    "import joblib\n",
    "# Speichern des Modells in einer pkl-Datei\n",
    "joblib.dump(tree_model, 'Decision_Tree_AQI_Project.pkl')\n",
    "# Laden des Modells aus der pkl-Datei\n",
    "loaded_model = joblib.load('Decision_Tree_AQI_Project.pkl')\n",
    "\n",
    "print(X_test)\n",
    "\n",
    "# Verwendung des geladenen Modells für Vorhersagen\n",
    "predictions = loaded_model.predict(X_test)\n",
    "\n",
    "print(predictions)"
   ]
  }
 ],
 "metadata": {
  "kernelspec": {
   "display_name": "adsenv",
   "language": "python",
   "name": "python3"
  },
  "language_info": {
   "codemirror_mode": {
    "name": "ipython",
    "version": 3
   },
   "file_extension": ".py",
   "mimetype": "text/x-python",
   "name": "python",
   "nbconvert_exporter": "python",
   "pygments_lexer": "ipython3",
   "version": "3.10.9"
  },
  "orig_nbformat": 4
 },
 "nbformat": 4,
 "nbformat_minor": 2
}
